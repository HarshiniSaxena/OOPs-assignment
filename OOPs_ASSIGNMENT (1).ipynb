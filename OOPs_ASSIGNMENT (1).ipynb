{
  "nbformat": 4,
  "nbformat_minor": 0,
  "metadata": {
    "colab": {
      "provenance": []
    },
    "kernelspec": {
      "name": "python3",
      "display_name": "Python 3"
    },
    "language_info": {
      "name": "python"
    }
  },
  "cells": [
    {
      "cell_type": "markdown",
      "source": [
        "THEORY QUESTION"
      ],
      "metadata": {
        "id": "r-6XiVqC9G9c"
      }
    },
    {
      "cell_type": "markdown",
      "source": [
        "Q1-  What is Object-Oriented Programming (OOP)?\n",
        "\n",
        "ANS- Object-Oriented Programming (OOP) is a programming paradigm that structures software around objects, which are self-contained units that bundle data (attributes) and the functions that operate on that data (methods).\n",
        "\n",
        "Example: A Car has attributes (color, model) and methods (drive(), brake())."
      ],
      "metadata": {
        "id": "CepGA9M39L8L"
      }
    },
    {
      "cell_type": "markdown",
      "source": [
        "Q2- What is a class in OOP?\n",
        "\n",
        "ANS- A class is a blueprint for creating objects. It defines properties and behaviors.A class is a way of organizing information about a type of data so a programmer can reuse elements when making multiple instances of that data type.\n",
        "\n",
        "EXAMPLE:\n",
        "\n",
        "Class Car:\n",
        "\n",
        "    def __init__(self, brand, color):\n",
        "        self.brand = brand\n",
        "        self.color = color"
      ],
      "metadata": {
        "id": "VU_dVfRU9L4x"
      }
    },
    {
      "cell_type": "markdown",
      "source": [
        "Q3- What is an object in OOP?\n",
        "\n",
        "ANS- In Object-Oriented Programming (OOP), an object is a fundamental building block, representing a specific instance of a class. It can be understood as a self-contained entity that encapsulates both data (attributes or properties) and the functions or procedures (methods or behaviors) that operate on that data.\n",
        "\n",
        "EXAMPLE:\n",
        "\n",
        "my_car = Car(\"Toyota\", \"Red\")   # object of Car\n"
      ],
      "metadata": {
        "id": "FylBOURB9L19"
      }
    },
    {
      "cell_type": "markdown",
      "source": [
        "Q4- What is the difference between abstraction and encapsulation?\n",
        "\n",
        "ANS- Abstraction → Hides implementation details, shows only essential features. (e.g., using len() without knowing how it works internally).Abstraction allows you to define a simplified view of a system or object, emphasizing its behavior without revealing its internal workings. This is often achieved through abstract classes and interfaces.\n",
        "\n",
        "Encapsulation → Wrapping data and methods together, restricting direct access using private/protected attributes.Encapsulation also involves controlling access to this internal data, typically by making it private and providing public methods (getters and setters) for controlled interaction. This protects the data from unauthorized access and ensures data integrity."
      ],
      "metadata": {
        "id": "1DNkbXEe9Lzi"
      }
    },
    {
      "cell_type": "markdown",
      "source": [
        "Q5- What are dunder methods in Python?\n",
        "\n",
        "ANS- Dunder (double underscore) methods are special methods with __name__. They allow operator overloading and built-in behavior.\n",
        "\n",
        "EXAMLE:\n",
        "\n",
        "class Book:\n",
        "\n",
        "    def __init__(self, title):\n",
        "        self.title = title\n",
        "    def __str__(self):\n",
        "        return f\"Book: {self.title}\"\n",
        "\n",
        "print(Book(\"Python\"))"
      ],
      "metadata": {
        "id": "-wSlXtvZ9Lw-"
      }
    },
    {
      "cell_type": "markdown",
      "source": [
        "Q6- Explain the concept of inheritance in OOP?\n",
        "\n",
        "ANS- Inheritance in Object-Oriented Programming (OOP) is a fundamental concept that allows a class to acquire the properties (attributes) and behaviors (methods) of another class. This mechanism establishes a hierarchical \"is-a\" relationship between classes, where one class (the child or subclass) is a specialized version of another class (the parent or superclass).\n",
        "\n",
        "EXAMPLE:\n",
        "\n",
        "class Animal:\n",
        "\n",
        "    def speak(self): print(\"Animal sound\")\n",
        "\n",
        "class Dog(Animal):\n",
        "\n",
        "    def speak(self): print(\"Bark\")"
      ],
      "metadata": {
        "id": "3GLEGcNJ9LuZ"
      }
    },
    {
      "cell_type": "markdown",
      "source": [
        "Q7- What is polymorphism in OOP?\n",
        "\n",
        "ANS- Polymorphism in OOP is the concept of \"many forms,\" allowing a single entity (like a variable, function, or object) to behave in different ways depending on its context or type. Polymorphism allows objects of different classes to be treated the same way if they share a method name.\n",
        "\n",
        "EXAMPLE:\n",
        "\n",
        "for animal in [Dog(), Animal()]:\n",
        "\n",
        "    animal.speak()"
      ],
      "metadata": {
        "id": "5F5St0UG9Lr0"
      }
    },
    {
      "cell_type": "markdown",
      "source": [
        "Q8-  How is encapsulation achieved in Python?\n",
        "\n",
        "ANS- Encapsulation is achieved by bundling data and methods within a single unit (a class), making the data members private and using public getter and setter methods to control access to that data.\n",
        "\n",
        "By restricting direct access to variables using naming conventions:\n",
        "\n",
        "1. protected (convention)\n",
        "\n",
        "2. private (name mangling)"
      ],
      "metadata": {
        "id": "cXOFCJbE9LpB"
      }
    },
    {
      "cell_type": "markdown",
      "source": [
        "Q9- What is a constructor in Python?\n",
        "\n",
        "ANS- In Python, a constructor is a special method used to initialize the state of an object when it is created. It is automatically called when a new instance of a class is created.\n",
        "\n",
        "A constructor is the __init__() method, automatically called when an object is created."
      ],
      "metadata": {
        "id": "W6Y7_k9J9LmR"
      }
    },
    {
      "cell_type": "markdown",
      "source": [
        "Q10- What are class and static methods in Python?\n",
        "\n",
        "ANS: A class method can access or modify the class state while a static method can't access or modify it. In general, static methods know nothing about the class state. They are utility-type methods that take some parameters and work upon those parameters. On the other hand class methods must have class as a parameter.\n",
        "\n",
        "Class method → Uses @classmethod, accesses class variables via cls.\n",
        "\n",
        "Static method → Uses @staticmethod, doesn’t access class or instance."
      ],
      "metadata": {
        "id": "swY7yVNd9Ljz"
      }
    },
    {
      "cell_type": "markdown",
      "source": [
        "Q11-  What is method overloading in Python?\n",
        "\n",
        "ANS- Method overloading refers to the ability to define multiple methods within the same class that share the same name but differ in their parameter lists (e.g., number of arguments or types of arguments).\n",
        "\n",
        "Python doesn’t support true overloading but can achieve it with default arguments.\n",
        "\n",
        "EXAMPLE: def add(a, b=0, c=0): return a+b+c\n",
        "\n",
        "\n"
      ],
      "metadata": {
        "id": "yP_Oi7uYEs6p"
      }
    },
    {
      "cell_type": "markdown",
      "source": [
        "Q12- What is method overriding in OOP?\n",
        "\n",
        "ANS- Method overriding in OOP is a mechanism where a subclass provides a specific implementation for a method that is already defined in its superclass.\n",
        "When a subclass provides its own implementation of a method already defined in the parent class."
      ],
      "metadata": {
        "id": "gUPMWf1KEuq5"
      }
    },
    {
      "cell_type": "markdown",
      "source": [
        "Q13- What is a property decorator in Python?\n",
        "\n",
        "ANS- The @property decorator in Python is a built-in decorator that allows you to define methods within a class that can be accessed like attributes, rather than requiring explicit method calls. It provides a \"Pythonic\" way to implement getters, setters, and deleters for class attributes, enabling controlled access and encapsulation.\n",
        "\n",
        "EXAMPLE:\n",
        "\n",
        "class Circle:\n",
        "\n",
        "    def __init__(self, radius): self._radius = radius\n",
        "    @property\n",
        "    def area(self): return 3.14 * self._radius**2"
      ],
      "metadata": {
        "id": "XI3d5T_REukv"
      }
    },
    {
      "cell_type": "markdown",
      "source": [
        "Q14- Why is polymorphism important in OOP?\n",
        "\n",
        "ANS- Polymorphism is important in OOP because it enables code reusability, flexibility, and scalability by allowing a single action or method to be performed in various ways by different objects."
      ],
      "metadata": {
        "id": "fUAC67d5Euh1"
      }
    },
    {
      "cell_type": "markdown",
      "source": [
        "Q15- What is an abstract class in Python?\n",
        "\n",
        "ANS- An abstract class in Python is a class that cannot be instantiated directly and serves as a blueprint or template for other classes. It is designed to be subclassed, and its primary purpose is to define a common interface that all its concrete (non-abstract) subclasses must implement."
      ],
      "metadata": {
        "id": "JeC2kfKfEue0"
      }
    },
    {
      "cell_type": "markdown",
      "source": [
        "Q16- What are the advantages of OOP?\n",
        "\n",
        "ANS- Code reusability (inheritance)\n",
        "\n",
        "Modularity (classes separate logic)\n",
        "\n",
        "Abstraction & encapsulation for security\n",
        "\n",
        "Easier maintenance and scalability"
      ],
      "metadata": {
        "id": "B4_rWX2qEucE"
      }
    },
    {
      "cell_type": "markdown",
      "source": [
        "Q17-  What is the difference between a class variable and an instance variable?\n",
        "\n",
        "ANS- Instance Variable: It is basically a class variable without a static modifier and is usually shared by all class instances. Across different objects, these variables can have different values. They are tied to a particular object instance of the class, therefore, the contents of an instance variable are totally independent of one object instance to others.\n",
        "\n",
        "\n",
        "Class Variable: It is basically a static variable that can be declared anywhere at class level with static. Across different objects, these variables can have only one value. These variables are not tied to any particular object of the class, therefore, can share across all objects of the class.  \n",
        "\n",
        "EXAMPLE:\n",
        "\n",
        "Class Student:\n",
        "\n",
        "    school = \"XYZ\"  # class variable\n",
        "    def __init__(self, name): self.name = name  # instance variable"
      ],
      "metadata": {
        "id": "1HkqyAEeEuZK"
      }
    },
    {
      "cell_type": "markdown",
      "source": [
        "Q18-  What is multiple inheritance in Python?\n",
        "\n",
        "ANS- Multiple inheritance in Python is a feature that allows a class to inherit attributes and methods from more than one parent class. This means a single child class can combine functionalities and characteristics from multiple base classes.\n",
        "\n",
        "EXAMPLE:\n",
        "\n",
        "class A:\n",
        "\n",
        "    def show(self): print(\"Class A\")\n",
        "\n",
        "class B:\n",
        "\n",
        "    def display(self): print(\"Class B\")\n",
        "\n",
        "class C(A, B):  # inherits from A and B\n",
        "   \n",
        "    pass\n",
        "\n",
        "obj = C()\n",
        "\n",
        "obj.show()      # From A\n",
        "\n",
        "obj.display()   # From B"
      ],
      "metadata": {
        "id": "Usl36DFsEuWX"
      }
    },
    {
      "cell_type": "markdown",
      "source": [
        "Q19- Explain the purpose of ‘’__str__’ and ‘__repr__’ ‘ methods in Python?\n",
        "\n",
        "ANS- The special method . __repr__() returns the official string representation, which is aimed at programmers as they develop and maintain a program. The special method . __str__() returns the informal string representation, a friendlier format for the program's user.\n",
        "\n",
        "EXAMPLE:\n",
        "\n",
        "class Book:\n",
        "\n",
        "    def __init__(self, title):\n",
        "        self.title = title\n",
        "    def __str__(self):\n",
        "        return f\"Book Title: {self.title}\"\n",
        "    def __repr__(self):\n",
        "        return f\"Book('{self.title}')\"\n",
        "\n",
        "b = Book(\"Python\")\n",
        "\n",
        "print(str(b))   # Book Title: Python\n",
        "\n",
        "print(repr(b))  # Book('Python')"
      ],
      "metadata": {
        "id": "_39pvV5DEuTy"
      }
    },
    {
      "cell_type": "markdown",
      "source": [
        "Q20- What is the significance of the ‘super()’ function in Python?\n",
        "\n",
        "ANS- The super() function in Python holds significant importance in object-oriented programming, particularly when dealing with inheritance. Its primary purpose is to provide a way to access methods and properties of a parent or sibling class from within a child or subclass.\n",
        "\n",
        "EXAMPLE\n",
        "\n",
        "class Parent:\n",
        "\n",
        "    def greet(self): print(\"Hello from Parent\")\n",
        "\n",
        "class Child(Parent):\n",
        "\n",
        "    def greet(self):\n",
        "        super().greet()  # calls Parent's greet\n",
        "        print(\"Hello from Child\")"
      ],
      "metadata": {
        "id": "cthJD5rEEuQ_"
      }
    },
    {
      "cell_type": "markdown",
      "source": [
        "Q21- What is the significance of the __del__ method in Python?\n",
        "\n",
        "ANS- Called when an object is about to be destroyed (garbage collected).\n",
        "\n",
        "Acts like a destructor in other languages.\n",
        "\n",
        "EXAMPLE:\n",
        "\n",
        "class Demo:\n",
        "\n",
        "    def __del__(self):\n",
        "        print(\"Destructor called, object deleted\")\n",
        "\n",
        "obj = Demo()\n",
        "\n",
        "del obj"
      ],
      "metadata": {
        "id": "dZUZrr8eEuJw"
      }
    },
    {
      "cell_type": "markdown",
      "source": [
        "Q22- What is the difference between @staticmethod and @classmethod in Python?\n",
        "\n",
        "ANS- @staticmethod\n",
        "\n",
        "1. Doesn’t use self or cls.\n",
        "\n",
        "2. Acts like a normal function inside a class.\n",
        "\n",
        "@classmethod\n",
        "\n",
        "1. Takes cls as the first argument.\n",
        "\n",
        "2. Can access/modify class variables.\n",
        "\n",
        "EXAMPLE:\n",
        "\n",
        "class Test:\n",
        "    school = \"XYZ\"\n",
        "    \n",
        "    @staticmethod\n",
        "    def add(a, b):\n",
        "        return a + b\n",
        "    \n",
        "    @classmethod\n",
        "    def change_school(cls, name):\n",
        "        cls.school = name"
      ],
      "metadata": {
        "id": "52vAT0L-EuGN"
      }
    },
    {
      "cell_type": "markdown",
      "source": [
        "Q23-  How does polymorphism work in Python with inheritance?\n",
        "\n",
        "ANS- Polymorphism in Python, when combined with inheritance, primarily manifests through method overriding. This allows child classes to provide their own specific implementations for methods that are already defined in their parent classes.\n",
        "\n",
        "EXAMPLE:\n",
        "\n",
        "class Animal:\n",
        "\n",
        "    def speak(self): print(\"Animal sound\")\n",
        "\n",
        "class Dog(Animal):\n",
        "\n",
        "    def speak(self): print(\"Bark\")\n",
        "\n",
        "class Cat(Animal):\n",
        "\n",
        "    def speak(self): print(\"Meow\")\n",
        "\n",
        "for pet in [Dog(), Cat()]:\n",
        "\n",
        "    pet.speak()  # Different behavior, same method name"
      ],
      "metadata": {
        "id": "FxxD1KhOEuC1"
      }
    },
    {
      "cell_type": "markdown",
      "source": [
        "Q24-  What is method chaining in Python OOP?\n",
        "\n",
        "ANS- Method chaining means calling multiple methods on the same object in one line.\n",
        "Requires methods to return self.\n",
        "\n",
        "EXAMPLE:\n",
        "\n",
        "class Calculator:\n",
        "\n",
        "    def __init__(self, value=0):\n",
        "        self.value = value\n",
        "    def add(self, x):\n",
        "        self.value += x\n",
        "        return self\n",
        "    def multiply(self, x):\n",
        "        self.value *= x\n",
        "        return self\n"
      ],
      "metadata": {
        "id": "_neKO0N_M6iX"
      }
    },
    {
      "cell_type": "markdown",
      "source": [
        "Q25- What is the purpose of the __call__ method in Python?\n",
        "\n",
        "ANS- __call__() is to turn your instances into callable objects. In other words, its purpose is to create objects that you can call as you would call a regular function. Most Python classes don't implement this method. Your custom classes will have it only if you need to use your instances as functions.\n",
        "\n",
        "EXAMPLE:\n",
        "\n",
        "class Greeting:\n",
        "\n",
        "    def __call__(self, name):\n",
        "        print(f\"Hello, {name}!\")\n",
        "\n",
        "g = Greeting()\n",
        "\n",
        "g(\"Harshini\")  # works like a function"
      ],
      "metadata": {
        "id": "Gv3rOBQ8M68i"
      }
    },
    {
      "cell_type": "markdown",
      "source": [
        "PRACTICAL QUESTION"
      ],
      "metadata": {
        "id": "KzfvjMQ9OnaQ"
      }
    },
    {
      "cell_type": "markdown",
      "source": [
        "Q1- Create a parent class Animal with a method speak() that prints a generic message. Create a child class Dog\n",
        "that overrides the speak() method to print \"Bark!\".\n"
      ],
      "metadata": {
        "id": "17qFrJRxOvBF"
      }
    },
    {
      "cell_type": "code",
      "execution_count": 2,
      "metadata": {
        "colab": {
          "base_uri": "https://localhost:8080/"
        },
        "id": "RJ5hdBSe9CeA",
        "outputId": "4524d37e-bfcf-4e7b-9194-e45c415dcafa"
      },
      "outputs": [
        {
          "output_type": "stream",
          "name": "stdout",
          "text": [
            "This animal makes a sound.\n",
            "Bark!\n"
          ]
        }
      ],
      "source": [
        "class Animal:\n",
        "    def speak(self):\n",
        "        print(\"This animal makes a sound.\")\n",
        "\n",
        "class Dog(Animal):\n",
        "    def speak(self):\n",
        "        print(\"Bark!\")\n",
        "\n",
        "a = Animal()\n",
        "a.speak()\n",
        "\n",
        "d = Dog()\n",
        "d.speak()"
      ]
    },
    {
      "cell_type": "markdown",
      "source": [
        "Q2- Write a program to create an abstract class Shape with a method area(). Derive classes Circle and Rectangle\n",
        "from it and implement the area() method in both."
      ],
      "metadata": {
        "id": "lwHC7oupPQXt"
      }
    },
    {
      "cell_type": "code",
      "source": [
        "from abc import ABC, abstractmethod\n",
        "\n",
        "class Shape(ABC):\n",
        "    @abstractmethod\n",
        "    def area(self):\n",
        "        pass\n",
        "\n",
        "class Circle(Shape):\n",
        "    def __init__(self, radius):\n",
        "        self.radius = radius\n",
        "    def area(self):\n",
        "        return 3.14 * self.radius ** 2\n",
        "\n",
        "class Rectangle(Shape):\n",
        "    def __init__(self, length, width):\n",
        "        self.length = length\n",
        "        self.width = width\n",
        "    def area(self):\n",
        "        return self.length * self.width\n",
        "\n",
        "# Test\n",
        "c = Circle(5)\n",
        "print(\"Circle Area:\", c.area())\n",
        "\n",
        "r = Rectangle(4, 6)\n",
        "print(\"Rectangle Area:\", r.area())\n"
      ],
      "metadata": {
        "colab": {
          "base_uri": "https://localhost:8080/"
        },
        "id": "cqrH9lBKPVsG",
        "outputId": "781ba9b1-ba3e-4cf5-d947-2a0da7665889"
      },
      "execution_count": 3,
      "outputs": [
        {
          "output_type": "stream",
          "name": "stdout",
          "text": [
            "Circle Area: 78.5\n",
            "Rectangle Area: 24\n"
          ]
        }
      ]
    },
    {
      "cell_type": "markdown",
      "source": [
        "Q3- Implement a multi-level inheritance scenario where a class Vehicle has an attribute type. Derive a class Car\n",
        "and further derive a class ElectricCar that adds a battery attribute."
      ],
      "metadata": {
        "id": "cWGm51sIPfC2"
      }
    },
    {
      "cell_type": "code",
      "source": [
        "class Vehicle:\n",
        "    def __init__(self, v_type):\n",
        "        self.type = v_type\n",
        "\n",
        "class Car(Vehicle):\n",
        "    def __init__(self, brand, v_type=\"Car\"):\n",
        "        super().__init__(v_type)\n",
        "        self.brand = brand\n",
        "\n",
        "class ElectricCar(Car):\n",
        "    def __init__(self, brand, battery):\n",
        "        super().__init__(brand)\n",
        "        self.battery = battery\n",
        "\n",
        "ec = ElectricCar(\"Tesla\", \"100 kWh\")\n",
        "print(f\"Type: {ec.type}, Brand: {ec.brand}, Battery: {ec.battery}\")\n"
      ],
      "metadata": {
        "colab": {
          "base_uri": "https://localhost:8080/"
        },
        "id": "gHctU8niPp0s",
        "outputId": "867afcc0-365f-420c-fb87-c78b8de6de0d"
      },
      "execution_count": 4,
      "outputs": [
        {
          "output_type": "stream",
          "name": "stdout",
          "text": [
            "Type: Car, Brand: Tesla, Battery: 100 kWh\n"
          ]
        }
      ]
    },
    {
      "cell_type": "markdown",
      "source": [
        "Q4- Demonstrate polymorphism by creating a base class Bird with a method fly(). Create two derived classes\n",
        "Sparrow and Penguin that override the fly() method.\n"
      ],
      "metadata": {
        "id": "EhwQLTiKPzAe"
      }
    },
    {
      "cell_type": "code",
      "source": [
        "class Bird:\n",
        "    def fly(self):\n",
        "        print(\"Some birds can fly.\")\n",
        "\n",
        "class Sparrow(Bird):\n",
        "    def fly(self):\n",
        "        print(\"Sparrow can fly high.\")\n",
        "\n",
        "class Penguin(Bird):\n",
        "    def fly(self):\n",
        "        print(\"Penguin cannot fly.\")\n",
        "\n",
        "for bird in [Sparrow(), Penguin()]:\n",
        "    bird.fly()\n"
      ],
      "metadata": {
        "colab": {
          "base_uri": "https://localhost:8080/"
        },
        "id": "b1GC3ED3QIlW",
        "outputId": "79d9dd38-76c7-4576-afd5-5b0f192952e4"
      },
      "execution_count": 6,
      "outputs": [
        {
          "output_type": "stream",
          "name": "stdout",
          "text": [
            "Sparrow can fly high.\n",
            "Penguin cannot fly.\n"
          ]
        }
      ]
    },
    {
      "cell_type": "markdown",
      "source": [
        "Q5- Write a program to demonstrate encapsulation by creating a class BankAccount with private attributes\n",
        "balance and methods to deposit, withdraw, and check balance."
      ],
      "metadata": {
        "id": "8VRjqtcHQUAz"
      }
    },
    {
      "cell_type": "code",
      "source": [
        "class BankAccount:\n",
        "    def __init__(self, balance=0):\n",
        "        self.__balance = balance  # private attribute\n",
        "\n",
        "    def deposit(self, amount):\n",
        "        if amount > 0:\n",
        "            self.__balance += amount\n",
        "\n",
        "    def withdraw(self, amount):\n",
        "        if 0 < amount <= self.__balance:\n",
        "            self.__balance -= amount\n",
        "        else:\n",
        "            print(\"Insufficient balance.\")\n",
        "\n",
        "    def check_balance(self):\n",
        "        return self.__balance\n",
        "\n",
        "account = BankAccount(1000)\n",
        "account.deposit(500)\n",
        "account.withdraw(200)\n",
        "print(\"Balance:\", account.check_balance())\n"
      ],
      "metadata": {
        "colab": {
          "base_uri": "https://localhost:8080/"
        },
        "id": "4gvgJv9eQZyT",
        "outputId": "7b501cc5-6714-4a30-d5d8-89afaa223472"
      },
      "execution_count": 7,
      "outputs": [
        {
          "output_type": "stream",
          "name": "stdout",
          "text": [
            "Balance: 1300\n"
          ]
        }
      ]
    },
    {
      "cell_type": "markdown",
      "source": [
        "Q6- Demonstrate runtime polymorphism using a method play() in a base class Instrument. Derive classes Guitar\n",
        "and Piano that implement their own version of play()."
      ],
      "metadata": {
        "id": "JvvYfXP4QoFc"
      }
    },
    {
      "cell_type": "code",
      "source": [
        "class Instrument:\n",
        "    def play(self):\n",
        "        print(\"Instrument is playing sound.\")\n",
        "\n",
        "class Guitar(Instrument):\n",
        "    def play(self):\n",
        "        print(\"Strumming the guitar.\")\n",
        "\n",
        "class Piano(Instrument):\n",
        "    def play(self):\n",
        "        print(\"Playing the piano.\")\n",
        "\n",
        "for instr in [Guitar(), Piano()]:\n",
        "    instr.play()\n"
      ],
      "metadata": {
        "colab": {
          "base_uri": "https://localhost:8080/"
        },
        "id": "N9Df7KYYRFq6",
        "outputId": "f10a1e2f-6fae-43b1-b104-d4a8ae1d4519"
      },
      "execution_count": 8,
      "outputs": [
        {
          "output_type": "stream",
          "name": "stdout",
          "text": [
            "Strumming the guitar.\n",
            "Playing the piano.\n"
          ]
        }
      ]
    },
    {
      "cell_type": "markdown",
      "source": [
        "Q7- Create a class MathOperations with a class method add_numbers() to add two numbers and a static\n",
        "method subtract_numbers() to subtract two numbers."
      ],
      "metadata": {
        "id": "Dl_b28CZRLxw"
      }
    },
    {
      "cell_type": "code",
      "source": [
        "class MathOperations:\n",
        "    @classmethod\n",
        "    def add_numbers(cls, a, b):\n",
        "        return a + b\n",
        "\n",
        "    @staticmethod\n",
        "    def subtract_numbers(a, b):\n",
        "        return a - b\n",
        "\n",
        "print(\"Addition:\", MathOperations.add_numbers(10, 5))\n",
        "print(\"Subtraction:\", MathOperations.subtract_numbers(10, 5))"
      ],
      "metadata": {
        "colab": {
          "base_uri": "https://localhost:8080/"
        },
        "id": "6YCvwTyURY6t",
        "outputId": "b383a88c-c908-4521-c7e7-58ac877aba68"
      },
      "execution_count": 9,
      "outputs": [
        {
          "output_type": "stream",
          "name": "stdout",
          "text": [
            "Addition: 15\n",
            "Subtraction: 5\n"
          ]
        }
      ]
    },
    {
      "cell_type": "markdown",
      "source": [
        "Q8-  Implement a class Person with a class method to count the total number of persons created."
      ],
      "metadata": {
        "id": "M9vyQ_qZReVz"
      }
    },
    {
      "cell_type": "code",
      "source": [
        "class Person:\n",
        "    count = 0  # class variable\n",
        "\n",
        "    def __init__(self, name):\n",
        "        self.name = name\n",
        "        Person.count += 1  # increase count when object is created\n",
        "\n",
        "    @classmethod\n",
        "    def total_persons(cls):\n",
        "        return cls.count\n",
        "\n",
        "p1 = Person(\"Alice\")\n",
        "p2 = Person(\"Bob\")\n",
        "print(\"Total Persons:\", Person.total_persons())\n"
      ],
      "metadata": {
        "colab": {
          "base_uri": "https://localhost:8080/"
        },
        "id": "4EQYIh4pRvTD",
        "outputId": "8157e79c-4bbe-4f9d-926e-026d0ec7fc5a"
      },
      "execution_count": 10,
      "outputs": [
        {
          "output_type": "stream",
          "name": "stdout",
          "text": [
            "Total Persons: 2\n"
          ]
        }
      ]
    },
    {
      "cell_type": "markdown",
      "source": [
        "Q9-  Write a class Fraction with attributes numerator and denominator. Override the str method to display the\n",
        "fraction as \"numerator/denominator\"."
      ],
      "metadata": {
        "id": "yByUWumoRzwW"
      }
    },
    {
      "cell_type": "code",
      "source": [
        "class Fraction:\n",
        "    def __init__(self, numerator, denominator):\n",
        "        self.numerator = numerator\n",
        "        self.denominator = denominator\n",
        "\n",
        "    def __str__(self):\n",
        "        return f\"{self.numerator}/{self.denominator}\"\n",
        "\n",
        "\n",
        "f = Fraction(3, 4)\n",
        "print(f)"
      ],
      "metadata": {
        "colab": {
          "base_uri": "https://localhost:8080/"
        },
        "id": "DBXDSnTVR5Xr",
        "outputId": "d325f313-515c-49c5-8636-0be5d647b6c1"
      },
      "execution_count": 11,
      "outputs": [
        {
          "output_type": "stream",
          "name": "stdout",
          "text": [
            "3/4\n"
          ]
        }
      ]
    },
    {
      "cell_type": "markdown",
      "source": [
        "Q10-  Demonstrate operator overloading by creating a class Vector and overriding the add method to add two\n",
        "vectors."
      ],
      "metadata": {
        "id": "EoQZtFJzSCS0"
      }
    },
    {
      "cell_type": "code",
      "source": [
        "class Vector:\n",
        "    def __init__(self, x, y):\n",
        "        self.x = x\n",
        "        self.y = y\n",
        "\n",
        "    def __add__(self, other):  # overloading +\n",
        "        return Vector(self.x + other.x, self.y + other.y)\n",
        "\n",
        "    def __str__(self):\n",
        "        return f\"Vector({self.x}, {self.y})\"\n",
        "\n",
        "v1 = Vector(2, 3)\n",
        "v2 = Vector(4, 5)\n",
        "print(v1 + v2)  # Vector(6, 8)\n"
      ],
      "metadata": {
        "colab": {
          "base_uri": "https://localhost:8080/"
        },
        "id": "PvcbT1R8SEyP",
        "outputId": "3dce8b70-f380-413a-9758-c542f7ead914"
      },
      "execution_count": 12,
      "outputs": [
        {
          "output_type": "stream",
          "name": "stdout",
          "text": [
            "Vector(6, 8)\n"
          ]
        }
      ]
    },
    {
      "cell_type": "markdown",
      "source": [
        "Q11- Create a class Person with attributes name and age. Add a method greet() that prints \"Hello, my name is\n",
        "{name} and I am {age} years old.\""
      ],
      "metadata": {
        "id": "63yQ67GgSJyp"
      }
    },
    {
      "cell_type": "code",
      "source": [
        "class Person:\n",
        "    def __init__(self, name, age):\n",
        "        self.name = name\n",
        "        self.age = age\n",
        "\n",
        "    def greet(self):\n",
        "        print(f\"Hello, my name is {self.name} and I am {self.age} years old.\")\n",
        "\n",
        "p = Person(\"Harshini\", 21)\n",
        "p.greet()\n"
      ],
      "metadata": {
        "colab": {
          "base_uri": "https://localhost:8080/"
        },
        "id": "O1RJk-RoSO36",
        "outputId": "5e729809-d1aa-4c3f-9eb6-6ca7475bda59"
      },
      "execution_count": 13,
      "outputs": [
        {
          "output_type": "stream",
          "name": "stdout",
          "text": [
            "Hello, my name is Harshini and I am 21 years old.\n"
          ]
        }
      ]
    },
    {
      "cell_type": "markdown",
      "source": [
        "Q12-  Implement a class Student with attributes name and grades. Create a method average_grade() to compute\n",
        "the average of the grades."
      ],
      "metadata": {
        "id": "khO_VLhNSTaP"
      }
    },
    {
      "cell_type": "code",
      "source": [
        "class Student:\n",
        "    def __init__(self, name, grades):\n",
        "        self.name = name\n",
        "        self.grades = grades\n",
        "\n",
        "    def average_grade(self):\n",
        "        return sum(self.grades) / len(self.grades)\n",
        "\n",
        "s = Student(\"Amit\", [85, 90, 78])\n",
        "print(f\"{s.name}'s Average Grade:\", s.average_grade())\n"
      ],
      "metadata": {
        "colab": {
          "base_uri": "https://localhost:8080/"
        },
        "id": "XRTc9g15SaD7",
        "outputId": "08f06810-efef-476e-af08-07a54dd395e3"
      },
      "execution_count": 14,
      "outputs": [
        {
          "output_type": "stream",
          "name": "stdout",
          "text": [
            "Amit's Average Grade: 84.33333333333333\n"
          ]
        }
      ]
    },
    {
      "cell_type": "markdown",
      "source": [
        "Q13-  Create a class Rectangle with methods set_dimensions() to set the dimensions and area() to calculate the\n",
        "area."
      ],
      "metadata": {
        "id": "1Gf0YX_2Sd4S"
      }
    },
    {
      "cell_type": "code",
      "source": [
        "class Rectangle:\n",
        "    def __init__(self):\n",
        "        self.length = 0\n",
        "        self.width = 0\n",
        "\n",
        "    def set_dimensions(self, length, width):\n",
        "        self.length = length\n",
        "        self.width = width\n",
        "\n",
        "    def area(self):\n",
        "        return self.length * self.width\n",
        "\n",
        "\n",
        "r = Rectangle()\n",
        "r.set_dimensions(5, 3)\n",
        "print(\"Rectangle Area:\", r.area())\n"
      ],
      "metadata": {
        "colab": {
          "base_uri": "https://localhost:8080/"
        },
        "id": "LWdQyQCrSi_G",
        "outputId": "d322beb2-cc1e-4413-8232-64a2fbec96b3"
      },
      "execution_count": 15,
      "outputs": [
        {
          "output_type": "stream",
          "name": "stdout",
          "text": [
            "Rectangle Area: 15\n"
          ]
        }
      ]
    },
    {
      "cell_type": "markdown",
      "source": [
        "Q14-  Create a class Employee with a method calculate_salary() that computes the salary based on hours worked\n",
        "and hourly rate. Create a derived class Manager that adds a bonus to the salary."
      ],
      "metadata": {
        "id": "zjUVBfAOSnRo"
      }
    },
    {
      "cell_type": "code",
      "source": [
        "class Employee:\n",
        "    def __init__(self, hours, rate):\n",
        "        self.hours = hours\n",
        "        self.rate = rate\n",
        "\n",
        "    def calculate_salary(self):\n",
        "        return self.hours * self.rate\n",
        "\n",
        "class Manager(Employee):\n",
        "    def __init__(self, hours, rate, bonus):\n",
        "        super().__init__(hours, rate)\n",
        "        self.bonus = bonus\n",
        "\n",
        "    def calculate_salary(self):\n",
        "        return super().calculate_salary() + self.bonus\n",
        "\n",
        "emp = Employee(40, 200)\n",
        "mgr = Manager(40, 200, 5000)\n",
        "\n",
        "print(\"Employee Salary:\", emp.calculate_salary())\n",
        "print(\"Manager Salary:\", mgr.calculate_salary())\n"
      ],
      "metadata": {
        "colab": {
          "base_uri": "https://localhost:8080/"
        },
        "id": "Fnzn6ezXStTx",
        "outputId": "7824b7b4-2286-4e62-e850-5bb9d5f0de8a"
      },
      "execution_count": 16,
      "outputs": [
        {
          "output_type": "stream",
          "name": "stdout",
          "text": [
            "Employee Salary: 8000\n",
            "Manager Salary: 13000\n"
          ]
        }
      ]
    },
    {
      "cell_type": "markdown",
      "source": [
        "Q15-  Create a class Product with attributes name, price, and quantity. Implement a method total_price() that\n",
        "calculates the total price of the product.\n",
        "\n",
        "\n"
      ],
      "metadata": {
        "id": "OxenjB9pS43x"
      }
    },
    {
      "cell_type": "code",
      "source": [
        "class Product:\n",
        "    def __init__(self, name, price, quantity):\n",
        "        self.name = name\n",
        "        self.price = price\n",
        "        self.quantity = quantity\n",
        "\n",
        "    def total_price(self):\n",
        "        return self.price * self.quantity\n",
        "\n",
        "# Test\n",
        "p = Product(\"Laptop\", 50000, 2)\n",
        "print(f\"Total Price of {p.name}: {p.total_price()}\")\n"
      ],
      "metadata": {
        "colab": {
          "base_uri": "https://localhost:8080/"
        },
        "id": "NbTFQoYkS9o_",
        "outputId": "563eb2a3-d76e-486a-a84e-16a1f8335772"
      },
      "execution_count": 17,
      "outputs": [
        {
          "output_type": "stream",
          "name": "stdout",
          "text": [
            "Total Price of Laptop: 100000\n"
          ]
        }
      ]
    },
    {
      "cell_type": "markdown",
      "source": [
        "Q16-  Create a class Animal with an abstract method sound(). Create two derived classes Cow and Sheep that\n",
        "implement the sound() method."
      ],
      "metadata": {
        "id": "7uwX9I1aTAvQ"
      }
    },
    {
      "cell_type": "code",
      "source": [
        "from abc import ABC, abstractmethod\n",
        "\n",
        "class Animal(ABC):\n",
        "    @abstractmethod\n",
        "    def sound(self):\n",
        "        pass\n",
        "\n",
        "class Cow(Animal):\n",
        "    def sound(self):\n",
        "        return \"Moo\"\n",
        "\n",
        "class Sheep(Animal):\n",
        "    def sound(self):\n",
        "        return \"Baa\"\n",
        "\n",
        "c = Cow()\n",
        "s = Sheep()\n",
        "print(\"Cow:\", c.sound())\n",
        "print(\"Sheep:\", s.sound())\n"
      ],
      "metadata": {
        "colab": {
          "base_uri": "https://localhost:8080/"
        },
        "id": "am1XG8MQTFG5",
        "outputId": "a910694c-4159-486e-9836-394e88930a6a"
      },
      "execution_count": 18,
      "outputs": [
        {
          "output_type": "stream",
          "name": "stdout",
          "text": [
            "Cow: Moo\n",
            "Sheep: Baa\n"
          ]
        }
      ]
    },
    {
      "cell_type": "markdown",
      "source": [
        "Q17-  Create a class Book with attributes title, author, and year_published. Add a method get_book_info() that\n",
        "returns a formatted string with the book's details."
      ],
      "metadata": {
        "id": "j-sa9o6STJlN"
      }
    },
    {
      "cell_type": "code",
      "source": [
        "class Book:\n",
        "    def __init__(self, title, author, year_published):\n",
        "        self.title = title\n",
        "        self.author = author\n",
        "        self.year_published = year_published\n",
        "\n",
        "    def get_book_info(self):\n",
        "        return f\"'{self.title}' by {self.author}, published in {self.year_published}\"\n",
        "\n",
        "b = Book(\"Python Basics\", \"John Doe\", 2021)\n",
        "print(b.get_book_info())\n"
      ],
      "metadata": {
        "colab": {
          "base_uri": "https://localhost:8080/"
        },
        "id": "KTUlT1OLTOIX",
        "outputId": "62d532ac-5720-4a07-a96d-d09f6b4acfb0"
      },
      "execution_count": 19,
      "outputs": [
        {
          "output_type": "stream",
          "name": "stdout",
          "text": [
            "'Python Basics' by John Doe, published in 2021\n"
          ]
        }
      ]
    },
    {
      "cell_type": "markdown",
      "source": [
        "Q18-  Create a class House with attributes address and price. Create a derived class Mansion that adds an\n",
        "attribute number_of_rooms."
      ],
      "metadata": {
        "id": "3lvEoXAuTS5m"
      }
    },
    {
      "cell_type": "code",
      "source": [
        "class House:\n",
        "    def __init__(self, address, price):\n",
        "        self.address = address\n",
        "        self.price = price\n",
        "\n",
        "class Mansion(House):\n",
        "    def __init__(self, address, price, number_of_rooms):\n",
        "        super().__init__(address, price)\n",
        "        self.number_of_rooms = number_of_rooms\n",
        "\n",
        "# Test\n",
        "m = Mansion(\"123 Luxury St\", 50000000, 12)\n",
        "print(f\"Address: {m.address}, Price: {m.price}, Rooms: {m.number_of_rooms}\")\n"
      ],
      "metadata": {
        "colab": {
          "base_uri": "https://localhost:8080/"
        },
        "id": "ZUdfK1hcTXzZ",
        "outputId": "35627e0d-237b-4566-dde0-4feefefc0409"
      },
      "execution_count": 20,
      "outputs": [
        {
          "output_type": "stream",
          "name": "stdout",
          "text": [
            "Address: 123 Luxury St, Price: 50000000, Rooms: 12\n"
          ]
        }
      ]
    }
  ]
}